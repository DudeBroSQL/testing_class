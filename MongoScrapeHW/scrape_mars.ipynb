{
 "cells": [
  {
   "cell_type": "code",
   "execution_count": 1,
   "metadata": {},
   "outputs": [],
   "source": [
    "import os\n",
    "from bs4 import BeautifulSoup as bs\n",
    "import requests\n",
    "from splinter import Browser\n",
    "import pandas as pd\n",
    "from flask_pymongo import PyMongo\n",
    "import pymongo"
   ]
  },
  {
   "cell_type": "code",
   "execution_count": 2,
   "metadata": {},
   "outputs": [],
   "source": [
    "url = 'https://mars.nasa.gov/news/'\n",
    "url2 = 'https://www.jpl.nasa.gov/spaceimages/?search=&category=Mars'\n",
    "url3 = 'https://twitter.com/marswxreport?lang=en'\n",
    "url4 = 'http://space-facts.com/mars/'\n",
    "url5 = 'https://astrogeology.usgs.gov/search/results?q=hemisphere+enhanced&k1=target&v1=Mars'"
   ]
  },
  {
   "cell_type": "code",
   "execution_count": 3,
   "metadata": {},
   "outputs": [],
   "source": [
    "response = requests.get(url)\n",
    "response2 = requests.get(url2)\n",
    "response3 = requests.get(url3)\n",
    "response5 =  requests.get(url5)\n",
    "soup = bs(response.text,'html.parser')\n",
    "soup2 = bs(response2.text,'html.parser')\n",
    "soup3 = bs(response3.text,'html.parser')\n",
    "soup5 = bs(response5.text,'html.parser')\n",
    "\n",
    "url4tbl = pd.read_html(url4)\n",
    "url4toHTML = url4tbl[0].to_html()\n",
    "hem_dict_dict ={}"
   ]
  },
  {
   "cell_type": "code",
   "execution_count": 4,
   "metadata": {},
   "outputs": [],
   "source": [
    "div_class_slide = soup.find_all('div', class_ = 'slide')\n",
    "par = div_class_slide[0].find('div',class_='rollover_description_inner').text\n",
    "title = div_class_slide[0].find('div',class_='content_title').find('a').text"
   ]
  },
  {
   "cell_type": "code",
   "execution_count": 5,
   "metadata": {},
   "outputs": [],
   "source": [
    "#for e in div_class_slide:\n",
    "#    rdi = e.find('div', class_='rollover_description_inner')\n",
    "#    ct = e.find('div', class_='content_title')\n",
    "#    a = ct.find('a').text"
   ]
  },
  {
   "cell_type": "code",
   "execution_count": 6,
   "metadata": {},
   "outputs": [],
   "source": [
    "executable_path = {'executable_path': 'chromedriver.exe'}\n",
    "browser = Browser('chrome', **executable_path, headless = False)\n",
    "browser.visit(url2)\n",
    "featured_image_url = 'https://www.jpl.nasa.gov' + soup2.find('footer').find('a').attrs['data-fancybox-href']\n",
    "mars_weather = soup3.find_all('div', class_ = 'js-tweet-text-container')[0].find('p').text"
   ]
  },
  {
   "cell_type": "code",
   "execution_count": 8,
   "metadata": {},
   "outputs": [],
   "source": [
    "browser.visit(url5)\n",
    "s5 = soup5.find_all('div', class_='item')\n",
    "for each in s5:\n",
    "    urls5 = 'https://astrogeology.usgs.gov'+ each.find('a').attrs['href']\n",
    "    browser.visit(urls5)\n",
    "    rs5 = requests.get(urls5)\n",
    "    ps5 = bs(rs5.text,'html.parser')\n",
    "    allAnchors = ps5.find_all('div', class_='downloads')\n",
    "    hem_dict_dict.update({'title' : ps5.find('title').text , 'img_url' : allAnchors[0].find('a').attrs['href']})  "
   ]
  },
  {
   "cell_type": "code",
   "execution_count": 11,
   "metadata": {},
   "outputs": [
    {
     "data": {
      "text/plain": [
       "<pymongo.results.InsertOneResult at 0x27f17b7a508>"
      ]
     },
     "execution_count": 11,
     "metadata": {},
     "output_type": "execute_result"
    }
   ],
   "source": [
    "conn = 'mongodb://localhost:27017'\n",
    "client = pymongo.MongoClient(conn)\n",
    "db = client.mars_db\n",
    "db.mars.drop()\n",
    "\n",
    "# Creates a collection in the database and inserts two documents\n",
    "db.mars.insert_one({'url':url, 'title': title, 'par': par})\n",
    "db.mars.insert_one({'url2':url2, 'featured_image_url': featured_image_url})\n",
    "db.mars.insert_one({'url3':url3, 'mars_weather': mars_weather})\n",
    "db.mars.insert_one({'url4':url4, 'url4toHTML': url4toHTML})\n",
    "db.mars.insert_one({'hem_dict_dict':hem_dict_dict})\n"
   ]
  },
  {
   "cell_type": "code",
   "execution_count": 45,
   "metadata": {},
   "outputs": [],
   "source": [
    "#fnd = db.mars.find()\n",
    "#for obj in fnd:\n",
    "#    print(f'{obj}########################################')\n",
    "#fnd.prettify()    \n",
    "    "
   ]
  },
  {
   "cell_type": "code",
   "execution_count": 46,
   "metadata": {},
   "outputs": [],
   "source": [
    "#fnd = db.mars.find()\n",
    "#fnd[2]['mars_weather']"
   ]
  },
  {
   "cell_type": "code",
   "execution_count": null,
   "metadata": {},
   "outputs": [],
   "source": []
  },
  {
   "cell_type": "code",
   "execution_count": null,
   "metadata": {},
   "outputs": [],
   "source": []
  }
 ],
 "metadata": {
  "kernelspec": {
   "display_name": "Python 3",
   "language": "python",
   "name": "python3"
  },
  "language_info": {
   "codemirror_mode": {
    "name": "ipython",
    "version": 3
   },
   "file_extension": ".py",
   "mimetype": "text/x-python",
   "name": "python",
   "nbconvert_exporter": "python",
   "pygments_lexer": "ipython3",
   "version": "3.6.5"
  }
 },
 "nbformat": 4,
 "nbformat_minor": 2
}
