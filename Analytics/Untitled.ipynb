{
 "cells": [
  {
   "cell_type": "code",
   "execution_count": 14,
   "metadata": {},
   "outputs": [],
   "source": [
    "from api import consumer_secret,consumer_key,access_key,access_secret\n",
    "import tweepy\n",
    "import json\n",
    "from vaderSentiment.vaderSentiment import SentimentIntensityAnalyzer\n",
    "import pandas as pd\n",
    "import time \n",
    "import pyplotas plt\n",
    "\n",
    "analyzer = SentimentIntensityAnalyzer()\n",
    "\n",
    "auth = tweepy.OAuthHandler(consumer_key, consumer_secret)\n",
    "auth.set_access_token(access_key, access_secret)\n",
    "\n",
    "api = tweepy.API(auth, parser = tweepy.parsers.JSONParser(), wait_on_rate_limit = 15*60)\n",
    "#''', '@CBSNews', '@cnnbrk', '@FoxNews', '@nytimes' '''\n",
    "users = ['@BBC']\n",
    "cols = ['name','txt','compound','pos','neu','neg', 'timestamp']\n",
    "recs = []\n"
   ]
  },
  {
   "cell_type": "code",
   "execution_count": 15,
   "metadata": {},
   "outputs": [],
   "source": [
    "#include_rts = False\n",
    "for u in users:\n",
    "    for x in range(100):\n",
    "        public_tweets = api.user_timeline(u ,page = x)\n",
    "        name = public_tweets[0][\"user\"]['name']\n",
    "        txt = public_tweets[0][\"text\"]\n",
    "        ts = public_tweets[0]['created_at']\n",
    "        timestamp = time.strftime('%Y-%m-%d %H:%M:%S', time.strptime(ts,'%a %b %d %H:%M:%S +0000 %Y'))\n",
    "        compound = analyzer.polarity_scores(txt)[\"compound\"]\n",
    "        pos = analyzer.polarity_scores(txt)[\"pos\"]\n",
    "        neu = analyzer.polarity_scores(txt)[\"neu\"]\n",
    "        neg = analyzer.polarity_scores(txt)[\"neg\"]\n",
    "        tup = (name,txt,compound,pos,neu,neg,timestamp)\n",
    "        recs.append(tup)"
   ]
  },
  {
   "cell_type": "code",
   "execution_count": 16,
   "metadata": {},
   "outputs": [],
   "source": [
    "users = ['@CBSNews']\n",
    "for u in users:\n",
    "    for x in range(100):\n",
    "        public_tweets = api.user_timeline(u ,page = x)\n",
    "        name = public_tweets[0][\"user\"]['name']\n",
    "        txt = public_tweets[0][\"text\"]\n",
    "        ts = public_tweets[0]['created_at']\n",
    "        timestamp = time.strftime('%Y-%m-%d %H:%M:%S', time.strptime(ts,'%a %b %d %H:%M:%S +0000 %Y'))\n",
    "        compound = analyzer.polarity_scores(txt)[\"compound\"]\n",
    "        pos = analyzer.polarity_scores(txt)[\"pos\"]\n",
    "        neu = analyzer.polarity_scores(txt)[\"neu\"]\n",
    "        neg = analyzer.polarity_scores(txt)[\"neg\"]\n",
    "        tup = (name,txt,compound,pos,neu,neg,timestamp)\n",
    "        recs.append(tup)"
   ]
  },
  {
   "cell_type": "code",
   "execution_count": 17,
   "metadata": {},
   "outputs": [],
   "source": [
    "users = ['@cnnbrk']\n",
    "for u in users:\n",
    "    for x in range(100):\n",
    "        public_tweets = api.user_timeline(u ,page = x)\n",
    "        name = public_tweets[0][\"user\"]['name']\n",
    "        txt = public_tweets[0][\"text\"]\n",
    "        ts = public_tweets[0]['created_at']\n",
    "        timestamp = time.strftime('%Y-%m-%d %H:%M:%S', time.strptime(ts,'%a %b %d %H:%M:%S +0000 %Y'))\n",
    "        compound = analyzer.polarity_scores(txt)[\"compound\"]\n",
    "        pos = analyzer.polarity_scores(txt)[\"pos\"]\n",
    "        neu = analyzer.polarity_scores(txt)[\"neu\"]\n",
    "        neg = analyzer.polarity_scores(txt)[\"neg\"]\n",
    "        tup = (name,txt,compound,pos,neu,neg,timestamp)\n",
    "        recs.append(tup)"
   ]
  },
  {
   "cell_type": "code",
   "execution_count": 18,
   "metadata": {},
   "outputs": [],
   "source": [
    "users = ['@FoxNews']\n",
    "for u in users:\n",
    "    for x in range(100):\n",
    "        public_tweets = api.user_timeline(u, page = x)\n",
    "        name = public_tweets[0][\"user\"]['name']\n",
    "        txt = public_tweets[0][\"text\"]\n",
    "        compound = analyzer.polarity_scores(txt)[\"compound\"]\n",
    "        pos = analyzer.polarity_scores(txt)[\"pos\"]\n",
    "        neu = analyzer.polarity_scores(txt)[\"neu\"]\n",
    "        neg = analyzer.polarity_scores(txt)[\"neg\"]\n",
    "        tup = (name,txt,compound,pos,neu,neg)\n",
    "        recs.append(tup)"
   ]
  },
  {
   "cell_type": "code",
   "execution_count": 19,
   "metadata": {},
   "outputs": [],
   "source": [
    "users = ['@nytimes']\n",
    "for u in users:\n",
    "    for x in range(100):\n",
    "        public_tweets = api.user_timeline(u ,page = x)\n",
    "        name = public_tweets[0][\"user\"]['name']\n",
    "        txt = public_tweets[0][\"text\"]\n",
    "        ts = public_tweets[0]['created_at']\n",
    "        timestamp = time.strftime('%Y-%m-%d %H:%M:%S', time.strptime(ts,'%a %b %d %H:%M:%S +0000 %Y'))\n",
    "        compound = analyzer.polarity_scores(txt)[\"compound\"]\n",
    "        pos = analyzer.polarity_scores(txt)[\"pos\"]\n",
    "        neu = analyzer.polarity_scores(txt)[\"neu\"]\n",
    "        neg = analyzer.polarity_scores(txt)[\"neg\"]\n",
    "        tup = (name,txt,compound,pos,neu,neg,timestamp)\n",
    "        recs.append(tup)"
   ]
  },
  {
   "cell_type": "code",
   "execution_count": 20,
   "metadata": {},
   "outputs": [],
   "source": [
    "df = pd.DataFrame.from_records(recs, columns=cols)"
   ]
  },
  {
   "cell_type": "code",
   "execution_count": 21,
   "metadata": {},
   "outputs": [
    {
     "name": "stdout",
     "output_type": "stream",
     "text": [
      "                   name                                                txt  \\\n",
      "0                   BBC  University Challenge icons @e_monkman and @Bob...   \n",
      "1                   BBC  University Challenge icons @e_monkman and @Bob...   \n",
      "2                   BBC  This is unbelievable! 👕📲️⚽️\\n\\nSam is 17 and s...   \n",
      "3                   BBC  Commuters applying make-up is a major source o...   \n",
      "4                   BBC  It's impossible to watch this without laughing...   \n",
      "5                   BBC  🐻🍁This year's #Autumnwatch will take the team ...   \n",
      "6                   BBC  RT @bbcthree: Lucy was 22 and studying to beco...   \n",
      "7                   BBC  🎶🎤How well do you know your 90s boy bands and ...   \n",
      "8                   BBC  ⛵️ This recycled plastic boat collects plastic...   \n",
      "9                   BBC  RT @BBCOne: Stay cool. But. Tonight @missgemco...   \n",
      "10                  BBC  Boeing says Asia needs 240,000 pilots over nex...   \n",
      "11                  BBC  A documentary series following the search for ...   \n",
      "12                  BBC  A groundbreaking technique looks set to turn m...   \n",
      "13                  BBC  A whole new way to treat Parkinson's. https://...   \n",
      "14                  BBC  😲♻️🐉 This 'river monster’ was created from the...   \n",
      "15                  BBC  Nearly a quarter of 14-year-old girls in the U...   \n",
      "16                  BBC  More than half of Borneo's orangutans have per...   \n",
      "17                  BBC  This father and son thought they were going to...   \n",
      "18                  BBC  Me leaving work in a calm and orderly fashion ...   \n",
      "19                  BBC  🐶🍦 Almost too adorable to eat... https://t.co/...   \n",
      "20                  BBC  More than a third of farmed fruit and vegetabl...   \n",
      "21                  BBC  Meet the biggest puppet in the UK. https://t.c...   \n",
      "22                  BBC  US Police have made an arrest in a fatal hit-a...   \n",
      "23                  BBC  Actual footage of my weekend plans... 💤 #Frida...   \n",
      "24                  BBC  RT @BBCArchive: Aretha Franklin performing Don...   \n",
      "25                  BBC  The government has unveiled its £100m strategy...   \n",
      "26                  BBC  The US pack dogs taking on the rhino poachers ...   \n",
      "27                  BBC  If you're lucky, you could see over 100 meteor...   \n",
      "28                  BBC  When it comes to describing the size of Jupite...   \n",
      "29                  BBC  😂 Remember the time Attenborough said 'BOO!' t...   \n",
      "..                  ...                                                ...   \n",
      "470  The New York Times  Jeff and MacKenzie Bezos are donating $10 mill...   \n",
      "471  The New York Times  Let @nytimesarts help plan your fall. Here’s a...   \n",
      "472  The New York Times  In an effort to promote diversity, Warner Bros...   \n",
      "473  The New York Times  RT @MichaelPaulson: A new path to Broadway: \"B...   \n",
      "474  The New York Times  Your daily @DealBook Briefing:\\n\\n• Amazon may...   \n",
      "475  The New York Times  President Xi Jinping of China will not make hi...   \n",
      "476  The New York Times  RT @TheSteinLine: Why was Don Nelson chosen to...   \n",
      "477  The New York Times  RT @nytvideo: \"You're out of order.\" Judge Bre...   \n",
      "478  The New York Times  There, sitting on a shelf in a Florida thrift ...   \n",
      "479  The New York Times  Brett Kavanaugh's hearing has paused for a bre...   \n",
      "480  The New York Times  RT @adamliptak: I’ve covered five other Suprem...   \n",
      "481  The New York Times  Rodrigo Duterte has ordered the arrest of Anto...   \n",
      "482  The New York Times  It's been 4 years since 43 students protesters...   \n",
      "483  The New York Times  In hidden corners across South Korea, tiny cam...   \n",
      "484  The New York Times  She Thought Pole Dancing at Kindergarten Was a...   \n",
      "485  The New York Times  Is there a spy camera in that bathroom? In Seo...   \n",
      "486  The New York Times  Days before the Supreme Court nominee's confir...   \n",
      "487  The New York Times  Summer is coming to a close. Here are our favo...   \n",
      "488  The New York Times  Meet Big. It's a record-breaking oyster found ...   \n",
      "489  The New York Times      They Sat in Hypocrisy https://t.co/XI3V1gAGL4   \n",
      "490  The New York Times  More than 100 alumni of a small, now-closed sc...   \n",
      "491  The New York Times  RT @TheSteinLine: At 2:22 AM ET -- five minute...   \n",
      "492  The New York Times  \"The real point of the fair, as I now understa...   \n",
      "493  The New York Times  \"The only way to exorcise the hatred in your h...   \n",
      "494  The New York Times  Though now many people associate Labor Day wit...   \n",
      "495  The New York Times  The number of extremely hot days is rising aro...   \n",
      "496  The New York Times  The son this couple gave up for adoption 36 ye...   \n",
      "497  The New York Times  RT @hfairfield: Type in a place, and we'll sho...   \n",
      "498  The New York Times  In public and in private, Ted Cruz has express...   \n",
      "499  The New York Times  Serena Williams's return to the court should s...   \n",
      "\n",
      "     compound    pos    neu    neg            timestamp  \n",
      "0      0.0772  0.071  0.929  0.000  2018-09-17 18:04:04  \n",
      "1      0.0772  0.071  0.929  0.000  2018-09-17 18:04:04  \n",
      "2      0.5983  0.223  0.777  0.000  2018-09-16 13:02:01  \n",
      "3     -0.6908  0.000  0.737  0.263  2018-09-15 08:02:07  \n",
      "4      0.7087  0.264  0.595  0.142  2018-09-13 16:03:03  \n",
      "5      0.0000  0.000  1.000  0.000  2018-09-12 09:02:01  \n",
      "6      0.0000  0.000  1.000  0.000  2018-09-10 16:23:57  \n",
      "7      0.2732  0.104  0.896  0.000  2018-09-09 14:35:05  \n",
      "8     -0.4215  0.000  0.781  0.219  2018-09-08 08:08:03  \n",
      "9      0.1655  0.121  0.879  0.000  2018-09-06 11:26:39  \n",
      "10     0.0772  0.058  0.942  0.000  2018-09-05 11:00:09  \n",
      "11    -0.5267  0.000  0.732  0.268  2018-09-03 19:02:03  \n",
      "12     0.5106  0.290  0.549  0.161  2018-09-02 14:06:08  \n",
      "13     0.4019  0.310  0.690  0.000  2018-09-01 13:04:05  \n",
      "14     0.2500  0.111  0.889  0.000  2018-08-31 07:00:06  \n",
      "15     0.0000  0.000  1.000  0.000  2018-08-29 09:08:48  \n",
      "16    -0.4939  0.000  0.862  0.138  2018-08-27 18:12:05  \n",
      "17    -0.5994  0.000  0.843  0.157  2018-08-26 08:00:14  \n",
      "18     0.6124  0.227  0.773  0.000  2018-08-24 15:59:00  \n",
      "19     0.4445  0.327  0.673  0.000  2018-08-23 12:03:06  \n",
      "20    -0.0382  0.000  0.943  0.057  2018-08-22 11:01:06  \n",
      "21     0.0000  0.000  1.000  0.000  2018-08-20 16:00:27  \n",
      "22    -0.7096  0.000  0.763  0.237  2018-08-19 09:02:05  \n",
      "23    -0.2960  0.000  0.784  0.216  2018-08-17 15:59:00  \n",
      "24    -0.2584  0.000  0.855  0.145  2018-08-16 14:33:47  \n",
      "25     0.0000  0.000  1.000  0.000  2018-08-15 11:03:07  \n",
      "26     0.0000  0.000  1.000  0.000  2018-08-13 16:00:33  \n",
      "27     0.4753  0.123  0.877  0.000  2018-08-12 11:01:07  \n",
      "28     0.2572  0.097  0.903  0.000  2018-08-11 08:04:00  \n",
      "29     0.4926  0.215  0.684  0.100  2018-08-09 16:03:02  \n",
      "..        ...    ...    ...    ...                  ...  \n",
      "470    0.6908  0.251  0.749  0.000  2018-09-06 02:02:02  \n",
      "471    0.4019  0.130  0.870  0.000  2018-09-05 21:31:10  \n",
      "472    0.3818  0.133  0.867  0.000  2018-09-05 17:45:08  \n",
      "473    0.0000  0.000  1.000  0.000  2018-09-05 15:00:03  \n",
      "474    0.4767  0.254  0.746  0.000  2018-09-05 12:00:10  \n",
      "475    0.0000  0.000  1.000  0.000  2018-09-05 07:15:03  \n",
      "476    0.0000  0.000  1.000  0.000  2018-09-05 03:11:04  \n",
      "477   -0.4939  0.000  0.862  0.138  2018-09-04 23:17:03  \n",
      "478    0.0000  0.000  1.000  0.000  2018-09-04 19:28:05  \n",
      "479   -0.2960  0.000  0.855  0.145  2018-09-04 16:56:50  \n",
      "480    0.3400  0.219  0.647  0.133  2018-09-04 14:18:22  \n",
      "481   -0.3150  0.106  0.695  0.199  2018-09-04 10:50:02  \n",
      "482   -0.2263  0.000  0.913  0.087  2018-09-04 06:00:13  \n",
      "483    0.0000  0.000  1.000  0.000  2018-09-04 02:00:06  \n",
      "484    0.4215  0.250  0.610  0.140  2018-09-03 22:29:54  \n",
      "485    0.0000  0.000  1.000  0.000  2018-09-03 18:00:23  \n",
      "486    0.5574  0.184  0.816  0.000  2018-09-03 13:00:10  \n",
      "487    0.4588  0.158  0.842  0.000  2018-09-03 07:34:41  \n",
      "488    0.0000  0.000  1.000  0.000  2018-09-03 02:45:38  \n",
      "489    0.0000  0.000  1.000  0.000  2018-09-02 22:35:28  \n",
      "490   -0.7650  0.000  0.742  0.258  2018-09-02 17:50:01  \n",
      "491   -0.2500  0.000  0.920  0.080  2018-09-02 13:08:53  \n",
      "492    0.3182  0.126  0.874  0.000  2018-09-02 07:28:40  \n",
      "493   -0.4767  0.086  0.741  0.173  2018-09-02 01:35:58  \n",
      "494    0.0000  0.000  1.000  0.000  2018-09-01 21:05:06  \n",
      "495    0.0772  0.058  0.942  0.000  2018-09-01 16:36:57  \n",
      "496    0.0000  0.000  1.000  0.000  2018-09-01 13:31:07  \n",
      "497    0.0000  0.000  1.000  0.000  2018-09-01 08:32:05  \n",
      "498   -0.3400  0.000  0.893  0.107  2018-09-01 03:17:05  \n",
      "499   -0.0258  0.103  0.788  0.108  2018-08-31 22:36:00  \n",
      "\n",
      "[500 rows x 7 columns]\n"
     ]
    }
   ],
   "source": [
    "print(df.head())\n"
   ]
  },
  {
   "cell_type": "code",
   "execution_count": 22,
   "metadata": {},
   "outputs": [],
   "source": [
    "sortByTS = df.sort_values('timestamp')"
   ]
  },
  {
   "cell_type": "code",
   "execution_count": 24,
   "metadata": {},
   "outputs": [
    {
     "name": "stdout",
     "output_type": "stream",
     "text": [
      "                  name                                                txt  \\\n",
      "299  CNN Breaking News  RT @CNNPolitics: Former Attorney General Loret...   \n",
      "298  CNN Breaking News  A 56-year-old Minnesota grandmother is wanted ...   \n",
      "297  CNN Breaking News  RT @CNNMoney: Martin Shkreli transferred to pr...   \n",
      "296  CNN Breaking News  Fired FBI director James Comey sits down for a...   \n",
      "295  CNN Breaking News  The CDC says not to eat romaine lettuce in any...   \n",
      "\n",
      "     compound    pos    neu    neg            timestamp  \n",
      "299    0.0000  0.000  1.000  0.000  2018-04-16 01:36:32  \n",
      "298   -0.6908  0.000  0.783  0.217  2018-04-17 14:04:12  \n",
      "297   -0.5106  0.000  0.769  0.231  2018-04-18 17:51:07  \n",
      "296   -0.8176  0.000  0.727  0.273  2018-04-19 20:00:03  \n",
      "295    0.3182  0.087  0.913  0.000  2018-04-20 22:09:55  \n"
     ]
    }
   ],
   "source": [
    "print(sortByTS.head())"
   ]
  },
  {
   "cell_type": "code",
   "execution_count": 27,
   "metadata": {},
   "outputs": [],
   "source": [
    "sortByTS.to_csv(path_or_buf = 'output/output.csv',sep = ',')"
   ]
  },
  {
   "cell_type": "code",
   "execution_count": 30,
   "metadata": {},
   "outputs": [],
   "source": [
    "#sortByTS.plot.scatter('compound','timestamp')"
   ]
  },
  {
   "cell_type": "code",
   "execution_count": 33,
   "metadata": {},
   "outputs": [
    {
     "name": "stdout",
     "output_type": "stream",
     "text": [
      "        cnn       fox      bbc       cbs       nyt\n",
      "0 -0.199809 -0.037238  0.10612 -0.077739  0.045544\n"
     ]
    }
   ],
   "source": [
    "cnn = df.loc[df['name'] == 'CNN Breaking News']\n",
    "fox = df.loc[df['name'] == 'Fox News']\n",
    "bbc = df.loc[df['name'] == 'BBC']\n",
    "cbs = df.loc[df['name'] == 'CBS News']\n",
    "nyt = df.loc[df['name'] == 'The New York Times']\n",
    "cnnMean = cnn['compound'].mean()\n",
    "foxMean = fox['compound'].mean()\n",
    "bbcMean = bbc['compound'].mean()\n",
    "cbsMean = cbs['compound'].mean()\n",
    "nytMean = nyt['compound'].mean()\n",
    "dctMeans = {'cnn':[cnnMean],'fox':[foxMean],'bbc':[bbcMean],'cbs':[cbsMean],'nyt':[nytMean]}\n",
    "dfMeans = pd.DataFrame.from_dict(dctMeans)\n",
    "print(dfMeans)"
   ]
  },
  {
   "cell_type": "code",
   "execution_count": 35,
   "metadata": {},
   "outputs": [
    {
     "data": {
      "text/plain": [
       "<matplotlib.axes._subplots.AxesSubplot at 0x23213e4e518>"
      ]
     },
     "execution_count": 35,
     "metadata": {},
     "output_type": "execute_result"
    },
    {
     "data": {
      "image/png": "[encoded data removed]",
      "text/plain": [
       "<Figure size 432x288 with 1 Axes>"
      ]
     },
     "metadata": {},
     "output_type": "display_data"
    }
   ],
   "source": [
    "dfMeans.plot.bar(rot = 0)"
   ]
  },
  {
   "cell_type": "code",
   "execution_count": null,
   "metadata": {},
   "outputs": [],
   "source": []
  }
 ],
 "metadata": {
  "kernelspec": {
   "display_name": "Python 3",
   "language": "python",
   "name": "python3"
  },
  "language_info": {
   "codemirror_mode": {
    "name": "ipython",
    "version": 3
   },
   "file_extension": ".py",
   "mimetype": "text/x-python",
   "name": "python",
   "nbconvert_exporter": "python",
   "pygments_lexer": "ipython3",
   "version": "3.6.5"
  }
 },
 "nbformat": 4,
 "nbformat_minor": 2
}
